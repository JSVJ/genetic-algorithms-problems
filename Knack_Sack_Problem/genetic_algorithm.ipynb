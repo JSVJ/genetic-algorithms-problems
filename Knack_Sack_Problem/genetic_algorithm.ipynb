{
 "cells": [
  {
   "cell_type": "markdown",
   "metadata": {},
   "source": [
    "Background:\n",
    "- We have a big truck with a specific size\n",
    "- We have a list of products with different sizes and prices which should be inserted into the truck \n",
    "- How to get the maximum utilization and profit of the truck ?  "
   ]
  },
  {
   "cell_type": "markdown",
   "metadata": {},
   "source": [
    "### Product Class"
   ]
  },
  {
   "cell_type": "code",
   "execution_count": 1,
   "metadata": {},
   "outputs": [],
   "source": [
    "# initiating a class for all products\n",
    "class Product():\n",
    "    def __init__(self, name, space, price):\n",
    "        self.name = name\n",
    "        self.space = space\n",
    "        self.price = price"
   ]
  },
  {
   "cell_type": "code",
   "execution_count": 10,
   "metadata": {},
   "outputs": [],
   "source": [
    "# creating products\n",
    "products_list = []\n",
    "products_list.append(Product('Refrigerator A', 0.751, 999.90))\n",
    "products_list.append(Product('Cell phone', 0.00000899, 2199.12))\n",
    "products_list.append(Product('TV 55', 0.400, 4346.99))\n",
    "products_list.append(Product(\"TV 50' \", 0.290, 3999.90))\n",
    "products_list.append(Product(\"TV 42' \", 0.200, 2999.00))\n",
    "products_list.append(Product(\"Notebook A\", 0.00350, 2499.90))\n",
    "products_list.append(Product(\"Ventilator\", 0.496, 199.90))\n",
    "products_list.append(Product(\"Microwave A\", 0.0424, 308.66))\n",
    "products_list.append(Product(\"Microwave B\", 0.0544, 429.90))\n",
    "products_list.append(Product(\"Microwave C\", 0.0319, 299.29))\n",
    "products_list.append(Product(\"Refrigerator B\", 0.635, 849.00))\n",
    "products_list.append(Product(\"Refrigerator C\", 0.870, 1199.89))\n",
    "products_list.append(Product(\"Notebook B\", 0.498, 1999.90))\n",
    "products_list.append(Product(\"Notebook C\", 0.527, 3999.00)) "
   ]
  },
  {
   "cell_type": "code",
   "execution_count": 17,
   "metadata": {},
   "outputs": [
    {
     "name": "stdout",
     "output_type": "stream",
     "text": [
      "Refrigerator A - 0.751 - 999.9\n",
      "Cell phone - 8.99e-06 - 2199.12\n",
      "TV 55 - 0.4 - 4346.99\n",
      "TV 50'  - 0.29 - 3999.9\n",
      "TV 42'  - 0.2 - 2999.0\n",
      "Notebook A - 0.0035 - 2499.9\n",
      "Ventilator - 0.496 - 199.9\n",
      "Microwave A - 0.0424 - 308.66\n",
      "Microwave B - 0.0544 - 429.9\n",
      "Microwave C - 0.0319 - 299.29\n",
      "Refrigerator B - 0.635 - 849.0\n",
      "Refrigerator C - 0.87 - 1199.89\n",
      "Notebook B - 0.498 - 1999.9\n",
      "Notebook C - 0.527 - 3999.0\n"
     ]
    }
   ],
   "source": [
    "for product in products_list:\n",
    "    print(product.name, '-', product.space, '-', product.price)"
   ]
  }
 ],
 "metadata": {
  "kernelspec": {
   "display_name": "Python 3.10.0 64-bit",
   "language": "python",
   "name": "python3"
  },
  "language_info": {
   "codemirror_mode": {
    "name": "ipython",
    "version": 3
   },
   "file_extension": ".py",
   "mimetype": "text/x-python",
   "name": "python",
   "nbconvert_exporter": "python",
   "pygments_lexer": "ipython3",
   "version": "3.10.0"
  },
  "orig_nbformat": 4,
  "vscode": {
   "interpreter": {
    "hash": "a91e5ef0bc9ad7283e7181d37ebd9899bf936d5de1f9bf67474cd3ba2ef5fd1b"
   }
  }
 },
 "nbformat": 4,
 "nbformat_minor": 2
}
