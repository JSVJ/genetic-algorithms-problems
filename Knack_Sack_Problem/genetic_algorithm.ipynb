{
 "cells": [
  {
   "cell_type": "markdown",
   "metadata": {},
   "source": [
    "Background:\n",
    "- We have a big truck with a specific size\n",
    "- We have a list of products with different sizes and prices which should be inserted into the truck \n",
    "- How to get the maximum utilization and profit of the truck ?  "
   ]
  },
  {
   "cell_type": "markdown",
   "metadata": {},
   "source": [
    "### Products"
   ]
  },
  {
   "cell_type": "code",
   "execution_count": 13,
   "metadata": {},
   "outputs": [],
   "source": [
    "# initiating a class for all products\n",
    "class Product():\n",
    "    def __init__(self, name, space, price):\n",
    "        self.name = name\n",
    "        self.space = space\n",
    "        self.price = price"
   ]
  },
  {
   "cell_type": "code",
   "execution_count": 14,
   "metadata": {},
   "outputs": [],
   "source": [
    "# creating products\n",
    "products_list = []\n",
    "products_list.append(Product('Refrigerator A', 0.751, 999.90))\n",
    "products_list.append(Product('Cell phone', 0.00000899, 2199.12))\n",
    "products_list.append(Product('TV 55', 0.400, 4346.99))\n",
    "products_list.append(Product(\"TV 50' \", 0.290, 3999.90))\n",
    "products_list.append(Product(\"TV 42' \", 0.200, 2999.00))\n",
    "products_list.append(Product(\"Notebook A\", 0.00350, 2499.90))\n",
    "products_list.append(Product(\"Ventilator\", 0.496, 199.90))\n",
    "products_list.append(Product(\"Microwave A\", 0.0424, 308.66))\n",
    "products_list.append(Product(\"Microwave B\", 0.0544, 429.90))\n",
    "products_list.append(Product(\"Microwave C\", 0.0319, 299.29))\n",
    "products_list.append(Product(\"Refrigerator B\", 0.635, 849.00))\n",
    "products_list.append(Product(\"Refrigerator C\", 0.870, 1199.89))\n",
    "products_list.append(Product(\"Notebook B\", 0.498, 1999.90))\n",
    "products_list.append(Product(\"Notebook C\", 0.527, 3999.00)) "
   ]
  },
  {
   "cell_type": "code",
   "execution_count": 15,
   "metadata": {},
   "outputs": [
    {
     "name": "stdout",
     "output_type": "stream",
     "text": [
      "Refrigerator A - 0.751 - 999.9\n",
      "Cell phone - 8.99e-06 - 2199.12\n",
      "TV 55 - 0.4 - 4346.99\n",
      "TV 50'  - 0.29 - 3999.9\n",
      "TV 42'  - 0.2 - 2999.0\n",
      "Notebook A - 0.0035 - 2499.9\n",
      "Ventilator - 0.496 - 199.9\n",
      "Microwave A - 0.0424 - 308.66\n",
      "Microwave B - 0.0544 - 429.9\n",
      "Microwave C - 0.0319 - 299.29\n",
      "Refrigerator B - 0.635 - 849.0\n",
      "Refrigerator C - 0.87 - 1199.89\n",
      "Notebook B - 0.498 - 1999.9\n",
      "Notebook C - 0.527 - 3999.0\n"
     ]
    }
   ],
   "source": [
    "for product in products_list:\n",
    "    print(product.name, '-', product.space, '-', product.price)"
   ]
  },
  {
   "cell_type": "markdown",
   "metadata": {},
   "source": [
    "### Individual"
   ]
  },
  {
   "cell_type": "code",
   "execution_count": 62,
   "metadata": {},
   "outputs": [],
   "source": [
    "# Indivdual\n",
    "# Each indivdual represents the solution\n",
    "# A set of indivdual forms a population\n",
    "\n",
    "from random import random\n",
    "\n",
    "class Individual():\n",
    "    def __init__(self, spaces, prices, space_limit, generation = 0):\n",
    "        self.spaces = spaces\n",
    "        self.prices = prices\n",
    "        self.space_limit = space_limit\n",
    "        self.score_evaluation = 0\n",
    "        self.used_space = 0\n",
    "        self.generation = generation\n",
    "        self.chromosome = [] # the actual solution is chromosome\n",
    "\n",
    "        # Randomly initializing the  in the first step\n",
    "        for i in range(len(spaces)):\n",
    "            if random() < 0.5:\n",
    "                self.chromosome.append('0')\n",
    "            else:\n",
    "                self.chromosome.append('1')\n",
    "            \n",
    "    def fitness(self):\n",
    "        # this function returns the total space and total price of the selected products (chromosomes)\n",
    "        score = 0\n",
    "        sum_spaces = 0\n",
    "        for i in range(len(self.chromosome)):\n",
    "            if self.chromosome[i] == '1':\n",
    "                score += self.prices[i]\n",
    "                sum_spaces += self.spaces[i]\n",
    "        \n",
    "        # if the space of selected products are more than space available in truck \n",
    "        if sum_spaces > self.space_limit:\n",
    "            # discarding this solution\n",
    "            score = 1\n",
    "        self.score_evaluation = score\n",
    "        self.used_space = sum_spaces"
   ]
  },
  {
   "cell_type": "code",
   "execution_count": 18,
   "metadata": {},
   "outputs": [],
   "source": [
    "spaces = []\n",
    "prices = []\n",
    "names = []\n",
    "\n",
    "for product in products_list:\n",
    "    spaces.append(product.space)\n",
    "    prices.append(product.price)\n",
    "    names.append(product.name)\n",
    "limit = 3 # maximum capacity"
   ]
  },
  {
   "cell_type": "code",
   "execution_count": 39,
   "metadata": {},
   "outputs": [
    {
     "name": "stdout",
     "output_type": "stream",
     "text": [
      "['Refrigerator A', 'Cell phone', 'TV 55', \"TV 50' \", \"TV 42' \", 'Notebook A', 'Ventilator', 'Microwave A', 'Microwave B', 'Microwave C', 'Refrigerator B', 'Refrigerator C', 'Notebook B', 'Notebook C']\n"
     ]
    }
   ],
   "source": [
    "print(names)"
   ]
  },
  {
   "cell_type": "code",
   "execution_count": 74,
   "metadata": {},
   "outputs": [
    {
     "name": "stdout",
     "output_type": "stream",
     "text": [
      "[0.751, 8.99e-06, 0.4, 0.29, 0.2, 0.0035, 0.496, 0.0424, 0.0544, 0.0319, 0.635, 0.87, 0.498, 0.527]\n",
      "[999.9, 2199.12, 4346.99, 3999.9, 2999.0, 2499.9, 199.9, 308.66, 429.9, 299.29, 849.0, 1199.89, 1999.9, 3999.0]\n",
      "['1', '1', '0', '0', '1', '0', '0', '0', '1', '0', '1', '0', '0', '1']\n",
      "\n",
      "The list of randomly selected Products:\n",
      "Refrigerator A\n",
      "Cell phone\n",
      "TV 42' \n",
      "Microwave B\n",
      "Refrigerator B\n",
      "Notebook C\n",
      "\n",
      "\n",
      "Score Evaluation =  11475.92\n",
      "used space =  2.16740899\n"
     ]
    }
   ],
   "source": [
    "# Generate the first combination of solutions\n",
    "individual1 = Individual(spaces = spaces, prices = prices, space_limit = limit)\n",
    "\n",
    "print(individual1.spaces)\n",
    "print(individual1.prices)\n",
    "# randomly generated chromosome\n",
    "print(individual1.chromosome)\n",
    "\n",
    "print('\\nThe list of randomly selected Products:')\n",
    "for i in range(len(products_list)):\n",
    "    if individual1.chromosome[i] == '1':\n",
    "        print(products_list[i].name)\n",
    "\n",
    "print('\\n')\n",
    "individual1.fitness()\n",
    "\n",
    "# if the used space is more than the space limit (3), then the score will become 1 which means we need to discard the current individual. \n",
    "print('Score Evaluation = ', individual1.score_evaluation)\n",
    "print('used space = ', individual1.used_space)"
   ]
  },
  {
   "cell_type": "markdown",
   "metadata": {},
   "source": [
    "### Fitness Function"
   ]
  },
  {
   "cell_type": "code",
   "execution_count": null,
   "metadata": {},
   "outputs": [],
   "source": []
  }
 ],
 "metadata": {
  "kernelspec": {
   "display_name": "Python 3.10.0 64-bit",
   "language": "python",
   "name": "python3"
  },
  "language_info": {
   "codemirror_mode": {
    "name": "ipython",
    "version": 3
   },
   "file_extension": ".py",
   "mimetype": "text/x-python",
   "name": "python",
   "nbconvert_exporter": "python",
   "pygments_lexer": "ipython3",
   "version": "3.10.0"
  },
  "orig_nbformat": 4,
  "vscode": {
   "interpreter": {
    "hash": "a91e5ef0bc9ad7283e7181d37ebd9899bf936d5de1f9bf67474cd3ba2ef5fd1b"
   }
  }
 },
 "nbformat": 4,
 "nbformat_minor": 2
}
